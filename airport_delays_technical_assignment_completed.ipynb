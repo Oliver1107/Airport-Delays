{
  "cells": [
    {
      "cell_type": "markdown",
      "metadata": {
        "id": "932b94fb"
      },
      "source": [
        "# Airport Delays\n",
        "\n",
        "Using the dataset named \"M1_final,\" determine if there is a way to predict delays in departure times for this airport. "
      ],
      "id": "932b94fb"
    },
    {
      "cell_type": "code",
      "execution_count": null,
      "metadata": {
        "id": "72f5fd9d"
      },
      "outputs": [],
      "source": [
        "from google.colab import files\n",
        "files.upload()"
      ],
      "id": "72f5fd9d"
    },
    {
      "cell_type": "code",
      "execution_count": null,
      "metadata": {
        "id": "81HpvvBIxuAn"
      },
      "outputs": [],
      "source": [
        "!unzip /content/data.zip -d /content"
      ],
      "id": "81HpvvBIxuAn"
    },
    {
      "cell_type": "code",
      "execution_count": 4,
      "metadata": {
        "colab": {
          "base_uri": "https://localhost:8080/"
        },
        "id": "wYRd_sQI9N0l",
        "outputId": "e56772e2-7314-4679-a40d-246380efe14a"
      },
      "outputs": [
        {
          "output_type": "stream",
          "name": "stdout",
          "text": [
            "Installing collected packages: category-encoders\n",
            "Successfully installed category-encoders-2.5.0\n"
          ]
        }
      ],
      "source": [
        "!pip install category_encoders"
      ],
      "id": "wYRd_sQI9N0l"
    },
    {
      "cell_type": "code",
      "execution_count": 5,
      "metadata": {
        "id": "QDtFRqUf0BfL"
      },
      "outputs": [],
      "source": [
        "import pandas as pd\n",
        "from sklearn.model_selection import train_test_split, RandomizedSearchCV, GridSearchCV\n",
        "from sklearn.linear_model import LinearRegression, Ridge\n",
        "from sklearn.tree import DecisionTreeRegressor\n",
        "from sklearn.ensemble import RandomForestRegressor, GradientBoostingRegressor\n",
        "from category_encoders import OneHotEncoder\n",
        "from sklearn.pipeline import make_pipeline\n",
        "from sklearn.metrics import mean_absolute_error\n",
        "import numpy as np\n",
        "import matplotlib.pyplot as plt\n",
        "from sklearn.inspection import permutation_importance"
      ],
      "id": "QDtFRqUf0BfL"
    },
    {
      "cell_type": "code",
      "execution_count": 6,
      "metadata": {
        "id": "kpRPWGKizLd0"
      },
      "outputs": [],
      "source": [
        "airports = pd.read_csv('/content/data/M1_final.csv')"
      ],
      "id": "kpRPWGKizLd0"
    },
    {
      "cell_type": "code",
      "execution_count": 21,
      "metadata": {
        "colab": {
          "base_uri": "https://localhost:8080/"
        },
        "id": "Q_yt2Tb58ETX",
        "outputId": "118e2319-0e1e-4e17-9368-909efde39d2d"
      },
      "outputs": [
        {
          "output_type": "execute_result",
          "data": {
            "text/plain": [
              "Index(['MONTH', 'DAY_OF_MONTH', 'DAY_OF_WEEK', 'OP_UNIQUE_CARRIER', 'TAIL_NUM',\n",
              "       'DEST', 'DEP_DELAY', 'CRS_ELAPSED_TIME', 'DISTANCE', 'CRS_DEP_M',\n",
              "       'DEP_TIME_M', 'CRS_ARR_M', 'Temperature', 'Dew Point', 'Humidity',\n",
              "       'Wind', 'Wind Speed', 'Wind Gust', 'Pressure', 'Condition', 'sch_dep',\n",
              "       'sch_arr', 'TAXI_OUT'],\n",
              "      dtype='object')"
            ]
          },
          "metadata": {},
          "execution_count": 21
        }
      ],
      "source": [
        "airports.columns"
      ],
      "id": "Q_yt2Tb58ETX"
    },
    {
      "cell_type": "code",
      "source": [
        "X = airports.drop(columns=['DEP_DELAY', 'TAIL_NUM'])\n",
        "y = airports['DEP_DELAY']"
      ],
      "metadata": {
        "id": "bGjSV6-50WDb"
      },
      "id": "bGjSV6-50WDb",
      "execution_count": 22,
      "outputs": []
    },
    {
      "cell_type": "code",
      "execution_count": 23,
      "metadata": {
        "id": "Yx1dcVE58Wkk"
      },
      "outputs": [],
      "source": [
        "X_remain, X_test, y_remain, y_test = train_test_split(X, y, test_size=0.2, random_state=42)\n",
        "X_train, X_val, y_train, y_val = train_test_split(X_remain, y_remain, test_size=0.25, random_state=42)"
      ],
      "id": "Yx1dcVE58Wkk"
    },
    {
      "cell_type": "code",
      "execution_count": 24,
      "metadata": {
        "id": "hypKyeFM-jrk"
      },
      "outputs": [],
      "source": [
        "model = make_pipeline(\n",
        "     OneHotEncoder(),\n",
        "     RandomForestRegressor(n_jobs=-1, random_state=42, n_estimators=65, max_samples=0.90, max_depth=30)\n",
        " )"
      ],
      "id": "hypKyeFM-jrk"
    },
    {
      "cell_type": "code",
      "execution_count": 25,
      "metadata": {
        "colab": {
          "base_uri": "https://localhost:8080/"
        },
        "id": "7uIrhCuZHTFF",
        "outputId": "32fbe78f-8b16-4569-e205-765d246472de"
      },
      "outputs": [
        {
          "output_type": "execute_result",
          "data": {
            "text/plain": [
              "Pipeline(steps=[('onehotencoder',\n",
              "                 OneHotEncoder(cols=['OP_UNIQUE_CARRIER', 'DEST', 'Dew Point',\n",
              "                                     'Wind', 'Condition'])),\n",
              "                ('randomforestregressor',\n",
              "                 RandomForestRegressor(max_depth=30, max_samples=0.9,\n",
              "                                       n_estimators=65, n_jobs=-1,\n",
              "                                       random_state=42))])"
            ]
          },
          "metadata": {},
          "execution_count": 25
        }
      ],
      "source": [
        "model.fit(X_train, y_train)"
      ],
      "id": "7uIrhCuZHTFF"
    },
    {
      "cell_type": "code",
      "source": [
        "model.score(X_val, y_val)"
      ],
      "metadata": {
        "colab": {
          "base_uri": "https://localhost:8080/"
        },
        "id": "itxfBBJUnpmO",
        "outputId": "78fe5f71-2e90-4137-ee71-a4a260cca6b5"
      },
      "id": "itxfBBJUnpmO",
      "execution_count": 26,
      "outputs": [
        {
          "output_type": "execute_result",
          "data": {
            "text/plain": [
              "0.7417975516404032"
            ]
          },
          "metadata": {},
          "execution_count": 26
        }
      ]
    },
    {
      "cell_type": "code",
      "source": [
        "mean_absolute_error(y_val, model.predict(X_val))"
      ],
      "metadata": {
        "colab": {
          "base_uri": "https://localhost:8080/"
        },
        "id": "f17UoAZOPkLi",
        "outputId": "2bd5a4e2-8a74-4bf9-d627-65ac93586555"
      },
      "id": "f17UoAZOPkLi",
      "execution_count": 27,
      "outputs": [
        {
          "output_type": "execute_result",
          "data": {
            "text/plain": [
              "3.911509798214753"
            ]
          },
          "metadata": {},
          "execution_count": 27
        }
      ]
    },
    {
      "cell_type": "code",
      "source": [
        "perm_imp = permutation_importance(model, X_val, y_val, n_jobs=-1, random_state=42)"
      ],
      "metadata": {
        "id": "HyaO5Azw-2Ls"
      },
      "id": "HyaO5Azw-2Ls",
      "execution_count": 28,
      "outputs": []
    },
    {
      "cell_type": "code",
      "source": [
        "imp_df = pd.DataFrame(index=X.columns, data={'mean': perm_imp['importances_mean'], 'std': perm_imp['importances_std']}).sort_values(by='mean')"
      ],
      "metadata": {
        "id": "0rcz3EOj_Hvj"
      },
      "id": "0rcz3EOj_Hvj",
      "execution_count": 29,
      "outputs": []
    },
    {
      "cell_type": "code",
      "source": [
        "imp_df"
      ],
      "metadata": {
        "colab": {
          "base_uri": "https://localhost:8080/",
          "height": 708
        },
        "id": "THIJjYNZs28s",
        "outputId": "64200db1-0a75-4584-eee5-b60ee5fce6a4"
      },
      "id": "THIJjYNZs28s",
      "execution_count": 30,
      "outputs": [
        {
          "output_type": "execute_result",
          "data": {
            "text/plain": [
              "                        mean       std\n",
              "DAY_OF_MONTH       -0.001133  0.000243\n",
              "TAXI_OUT           -0.001068  0.000904\n",
              "Temperature        -0.000657  0.001148\n",
              "DAY_OF_WEEK         0.000064  0.000166\n",
              "Humidity            0.000191  0.000137\n",
              "DISTANCE            0.000355  0.000330\n",
              "Wind                0.000479  0.000507\n",
              "Wind Gust           0.000546  0.001278\n",
              "MONTH               0.000551  0.000629\n",
              "OP_UNIQUE_CARRIER   0.000676  0.000470\n",
              "Dew Point           0.001997  0.000572\n",
              "Condition           0.002067  0.000143\n",
              "CRS_ELAPSED_TIME    0.003746  0.000502\n",
              "Wind Speed          0.004407  0.001094\n",
              "DEST                0.004898  0.000596\n",
              "Pressure            0.034209  0.005235\n",
              "sch_dep             0.044755  0.010205\n",
              "sch_arr             0.207480  0.006505\n",
              "CRS_ARR_M           1.230914  0.055608\n",
              "CRS_DEP_M          39.234622  0.559832\n",
              "DEP_TIME_M         46.284119  0.234621"
            ],
            "text/html": [
              "\n",
              "  <div id=\"df-01d23719-407e-4785-908f-bba168fcc371\">\n",
              "    <div class=\"colab-df-container\">\n",
              "      <div>\n",
              "<style scoped>\n",
              "    .dataframe tbody tr th:only-of-type {\n",
              "        vertical-align: middle;\n",
              "    }\n",
              "\n",
              "    .dataframe tbody tr th {\n",
              "        vertical-align: top;\n",
              "    }\n",
              "\n",
              "    .dataframe thead th {\n",
              "        text-align: right;\n",
              "    }\n",
              "</style>\n",
              "<table border=\"1\" class=\"dataframe\">\n",
              "  <thead>\n",
              "    <tr style=\"text-align: right;\">\n",
              "      <th></th>\n",
              "      <th>mean</th>\n",
              "      <th>std</th>\n",
              "    </tr>\n",
              "  </thead>\n",
              "  <tbody>\n",
              "    <tr>\n",
              "      <th>DAY_OF_MONTH</th>\n",
              "      <td>-0.001133</td>\n",
              "      <td>0.000243</td>\n",
              "    </tr>\n",
              "    <tr>\n",
              "      <th>TAXI_OUT</th>\n",
              "      <td>-0.001068</td>\n",
              "      <td>0.000904</td>\n",
              "    </tr>\n",
              "    <tr>\n",
              "      <th>Temperature</th>\n",
              "      <td>-0.000657</td>\n",
              "      <td>0.001148</td>\n",
              "    </tr>\n",
              "    <tr>\n",
              "      <th>DAY_OF_WEEK</th>\n",
              "      <td>0.000064</td>\n",
              "      <td>0.000166</td>\n",
              "    </tr>\n",
              "    <tr>\n",
              "      <th>Humidity</th>\n",
              "      <td>0.000191</td>\n",
              "      <td>0.000137</td>\n",
              "    </tr>\n",
              "    <tr>\n",
              "      <th>DISTANCE</th>\n",
              "      <td>0.000355</td>\n",
              "      <td>0.000330</td>\n",
              "    </tr>\n",
              "    <tr>\n",
              "      <th>Wind</th>\n",
              "      <td>0.000479</td>\n",
              "      <td>0.000507</td>\n",
              "    </tr>\n",
              "    <tr>\n",
              "      <th>Wind Gust</th>\n",
              "      <td>0.000546</td>\n",
              "      <td>0.001278</td>\n",
              "    </tr>\n",
              "    <tr>\n",
              "      <th>MONTH</th>\n",
              "      <td>0.000551</td>\n",
              "      <td>0.000629</td>\n",
              "    </tr>\n",
              "    <tr>\n",
              "      <th>OP_UNIQUE_CARRIER</th>\n",
              "      <td>0.000676</td>\n",
              "      <td>0.000470</td>\n",
              "    </tr>\n",
              "    <tr>\n",
              "      <th>Dew Point</th>\n",
              "      <td>0.001997</td>\n",
              "      <td>0.000572</td>\n",
              "    </tr>\n",
              "    <tr>\n",
              "      <th>Condition</th>\n",
              "      <td>0.002067</td>\n",
              "      <td>0.000143</td>\n",
              "    </tr>\n",
              "    <tr>\n",
              "      <th>CRS_ELAPSED_TIME</th>\n",
              "      <td>0.003746</td>\n",
              "      <td>0.000502</td>\n",
              "    </tr>\n",
              "    <tr>\n",
              "      <th>Wind Speed</th>\n",
              "      <td>0.004407</td>\n",
              "      <td>0.001094</td>\n",
              "    </tr>\n",
              "    <tr>\n",
              "      <th>DEST</th>\n",
              "      <td>0.004898</td>\n",
              "      <td>0.000596</td>\n",
              "    </tr>\n",
              "    <tr>\n",
              "      <th>Pressure</th>\n",
              "      <td>0.034209</td>\n",
              "      <td>0.005235</td>\n",
              "    </tr>\n",
              "    <tr>\n",
              "      <th>sch_dep</th>\n",
              "      <td>0.044755</td>\n",
              "      <td>0.010205</td>\n",
              "    </tr>\n",
              "    <tr>\n",
              "      <th>sch_arr</th>\n",
              "      <td>0.207480</td>\n",
              "      <td>0.006505</td>\n",
              "    </tr>\n",
              "    <tr>\n",
              "      <th>CRS_ARR_M</th>\n",
              "      <td>1.230914</td>\n",
              "      <td>0.055608</td>\n",
              "    </tr>\n",
              "    <tr>\n",
              "      <th>CRS_DEP_M</th>\n",
              "      <td>39.234622</td>\n",
              "      <td>0.559832</td>\n",
              "    </tr>\n",
              "    <tr>\n",
              "      <th>DEP_TIME_M</th>\n",
              "      <td>46.284119</td>\n",
              "      <td>0.234621</td>\n",
              "    </tr>\n",
              "  </tbody>\n",
              "</table>\n",
              "</div>\n",
              "      <button class=\"colab-df-convert\" onclick=\"convertToInteractive('df-01d23719-407e-4785-908f-bba168fcc371')\"\n",
              "              title=\"Convert this dataframe to an interactive table.\"\n",
              "              style=\"display:none;\">\n",
              "        \n",
              "  <svg xmlns=\"http://www.w3.org/2000/svg\" height=\"24px\"viewBox=\"0 0 24 24\"\n",
              "       width=\"24px\">\n",
              "    <path d=\"M0 0h24v24H0V0z\" fill=\"none\"/>\n",
              "    <path d=\"M18.56 5.44l.94 2.06.94-2.06 2.06-.94-2.06-.94-.94-2.06-.94 2.06-2.06.94zm-11 1L8.5 8.5l.94-2.06 2.06-.94-2.06-.94L8.5 2.5l-.94 2.06-2.06.94zm10 10l.94 2.06.94-2.06 2.06-.94-2.06-.94-.94-2.06-.94 2.06-2.06.94z\"/><path d=\"M17.41 7.96l-1.37-1.37c-.4-.4-.92-.59-1.43-.59-.52 0-1.04.2-1.43.59L10.3 9.45l-7.72 7.72c-.78.78-.78 2.05 0 2.83L4 21.41c.39.39.9.59 1.41.59.51 0 1.02-.2 1.41-.59l7.78-7.78 2.81-2.81c.8-.78.8-2.07 0-2.86zM5.41 20L4 18.59l7.72-7.72 1.47 1.35L5.41 20z\"/>\n",
              "  </svg>\n",
              "      </button>\n",
              "      \n",
              "  <style>\n",
              "    .colab-df-container {\n",
              "      display:flex;\n",
              "      flex-wrap:wrap;\n",
              "      gap: 12px;\n",
              "    }\n",
              "\n",
              "    .colab-df-convert {\n",
              "      background-color: #E8F0FE;\n",
              "      border: none;\n",
              "      border-radius: 50%;\n",
              "      cursor: pointer;\n",
              "      display: none;\n",
              "      fill: #1967D2;\n",
              "      height: 32px;\n",
              "      padding: 0 0 0 0;\n",
              "      width: 32px;\n",
              "    }\n",
              "\n",
              "    .colab-df-convert:hover {\n",
              "      background-color: #E2EBFA;\n",
              "      box-shadow: 0px 1px 2px rgba(60, 64, 67, 0.3), 0px 1px 3px 1px rgba(60, 64, 67, 0.15);\n",
              "      fill: #174EA6;\n",
              "    }\n",
              "\n",
              "    [theme=dark] .colab-df-convert {\n",
              "      background-color: #3B4455;\n",
              "      fill: #D2E3FC;\n",
              "    }\n",
              "\n",
              "    [theme=dark] .colab-df-convert:hover {\n",
              "      background-color: #434B5C;\n",
              "      box-shadow: 0px 1px 3px 1px rgba(0, 0, 0, 0.15);\n",
              "      filter: drop-shadow(0px 1px 2px rgba(0, 0, 0, 0.3));\n",
              "      fill: #FFFFFF;\n",
              "    }\n",
              "  </style>\n",
              "\n",
              "      <script>\n",
              "        const buttonEl =\n",
              "          document.querySelector('#df-01d23719-407e-4785-908f-bba168fcc371 button.colab-df-convert');\n",
              "        buttonEl.style.display =\n",
              "          google.colab.kernel.accessAllowed ? 'block' : 'none';\n",
              "\n",
              "        async function convertToInteractive(key) {\n",
              "          const element = document.querySelector('#df-01d23719-407e-4785-908f-bba168fcc371');\n",
              "          const dataTable =\n",
              "            await google.colab.kernel.invokeFunction('convertToInteractive',\n",
              "                                                     [key], {});\n",
              "          if (!dataTable) return;\n",
              "\n",
              "          const docLinkHtml = 'Like what you see? Visit the ' +\n",
              "            '<a target=\"_blank\" href=https://colab.research.google.com/notebooks/data_table.ipynb>data table notebook</a>'\n",
              "            + ' to learn more about interactive tables.';\n",
              "          element.innerHTML = '';\n",
              "          dataTable['output_type'] = 'display_data';\n",
              "          await google.colab.output.renderOutput(dataTable, element);\n",
              "          const docLink = document.createElement('div');\n",
              "          docLink.innerHTML = docLinkHtml;\n",
              "          element.appendChild(docLink);\n",
              "        }\n",
              "      </script>\n",
              "    </div>\n",
              "  </div>\n",
              "  "
            ]
          },
          "metadata": {},
          "execution_count": 30
        }
      ]
    },
    {
      "cell_type": "code",
      "execution_count": 31,
      "metadata": {
        "id": "X879MTKF3VfT"
      },
      "outputs": [],
      "source": [
        "X = airports.drop(columns=['DEP_DELAY', 'TAIL_NUM', 'Temperature', 'DAY_OF_MONTH', 'TAXI_OUT'])\n",
        "y = airports['DEP_DELAY']"
      ],
      "id": "X879MTKF3VfT"
    },
    {
      "cell_type": "code",
      "execution_count": 32,
      "metadata": {
        "id": "ATZ4riKy0sbY"
      },
      "outputs": [],
      "source": [
        "X_remain, X_test, y_remain, y_test = train_test_split(X, y, test_size=0.2, random_state=42)\n",
        "X_train, X_val, y_train, y_val = train_test_split(X_remain, y_remain, test_size=0.25, random_state=42)"
      ],
      "id": "ATZ4riKy0sbY"
    },
    {
      "cell_type": "code",
      "execution_count": 33,
      "metadata": {
        "id": "S67FHGiG0v_l"
      },
      "outputs": [],
      "source": [
        "model_rf = make_pipeline(\n",
        "     OneHotEncoder(),\n",
        "     RandomForestRegressor(n_jobs=-1, random_state=42, n_estimators=65, max_samples=0.90, max_depth=30)\n",
        " )"
      ],
      "id": "S67FHGiG0v_l"
    },
    {
      "cell_type": "code",
      "execution_count": 34,
      "metadata": {
        "colab": {
          "base_uri": "https://localhost:8080/"
        },
        "outputId": "c1c8925f-301f-4bd2-82eb-64f7b4adbc02",
        "id": "5Z2sw4ix1ESe"
      },
      "outputs": [
        {
          "output_type": "execute_result",
          "data": {
            "text/plain": [
              "Pipeline(steps=[('onehotencoder',\n",
              "                 OneHotEncoder(cols=['OP_UNIQUE_CARRIER', 'DEST', 'Dew Point',\n",
              "                                     'Wind', 'Condition'])),\n",
              "                ('randomforestregressor',\n",
              "                 RandomForestRegressor(max_depth=30, max_samples=0.9,\n",
              "                                       n_estimators=65, n_jobs=-1,\n",
              "                                       random_state=42))])"
            ]
          },
          "metadata": {},
          "execution_count": 34
        }
      ],
      "source": [
        "model_rf.fit(X_train, y_train)"
      ],
      "id": "5Z2sw4ix1ESe"
    },
    {
      "cell_type": "code",
      "source": [
        "model_rf.score(X_test, y_test)"
      ],
      "metadata": {
        "colab": {
          "base_uri": "https://localhost:8080/"
        },
        "id": "MU7otAXyyj_E",
        "outputId": "6d8ce750-dd9e-48b8-8327-9495fcc87f44"
      },
      "id": "MU7otAXyyj_E",
      "execution_count": 38,
      "outputs": [
        {
          "output_type": "execute_result",
          "data": {
            "text/plain": [
              "0.8553509917021243"
            ]
          },
          "metadata": {},
          "execution_count": 38
        }
      ]
    },
    {
      "cell_type": "code",
      "source": [
        "mean_absolute_error(y_test, model_rf.predict(X_test))"
      ],
      "metadata": {
        "colab": {
          "base_uri": "https://localhost:8080/"
        },
        "id": "ARNyStpcyjo4",
        "outputId": "dcf877b3-b4b8-4ab6-a94e-064043a7c763"
      },
      "id": "ARNyStpcyjo4",
      "execution_count": 39,
      "outputs": [
        {
          "output_type": "execute_result",
          "data": {
            "text/plain": [
              "3.1868522206223258"
            ]
          },
          "metadata": {},
          "execution_count": 39
        }
      ]
    },
    {
      "cell_type": "code",
      "source": [
        "preds = pd.DataFrame(data={'actual': y_test, 'predicted': model_rf.predict(X_test)})"
      ],
      "metadata": {
        "id": "1e3jrq-wv81t"
      },
      "id": "1e3jrq-wv81t",
      "execution_count": 40,
      "outputs": []
    },
    {
      "cell_type": "code",
      "source": [
        "preds.sample(100).reset_index(drop=True).plot()"
      ],
      "metadata": {
        "colab": {
          "base_uri": "https://localhost:8080/",
          "height": 283
        },
        "id": "Eac83-sswvO0",
        "outputId": "4d4a5942-963e-4770-b34c-910e38b0e860"
      },
      "id": "Eac83-sswvO0",
      "execution_count": 41,
      "outputs": [
        {
          "output_type": "execute_result",
          "data": {
            "text/plain": [
              "<matplotlib.axes._subplots.AxesSubplot at 0x7f8d8ec8bed0>"
            ]
          },
          "metadata": {},
          "execution_count": 41
        },
        {
          "output_type": "display_data",
          "data": {
            "text/plain": [
              "<Figure size 432x288 with 1 Axes>"
            ],
            "image/png": "[encoded data removed]"
          },
          "metadata": {
            "needs_background": "light"
          }
        }
      ]
    }
  ],
  "metadata": {
    "colab": {
      "provenance": []
    },
    "kernelspec": {
      "display_name": "Python 3",
      "language": "python",
      "name": "python3"
    },
    "language_info": {
      "codemirror_mode": {
        "name": "ipython",
        "version": 3
      },
      "file_extension": ".py",
      "mimetype": "text/x-python",
      "name": "python",
      "nbconvert_exporter": "python",
      "pygments_lexer": "ipython3",
      "version": "3.8.8"
    }
  },
  "nbformat": 4,
  "nbformat_minor": 5
}